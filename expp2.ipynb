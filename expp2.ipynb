{
 "cells": [
  {
   "cell_type": "code",
   "execution_count": 6,
   "metadata": {},
   "outputs": [
    {
     "name": "stderr",
     "output_type": "stream",
     "text": [
      "95317it [00:02, 47669.42it/s]"
     ]
    },
    {
     "name": "stdout",
     "output_type": "stream",
     "text": [
      "{'createtime': '2019-08-22 09:41:00', 'url': 'https://www.donga.com/news/Economy/article/all/20190822/97063957/1', 'thumburl': 'https://dimg.donga.com/wps/NEWS/IMAGE/2019/08/22/97063941.2.jpg', 'source': '뉴시스(웹)', 'ctx': \"<제목> 분양가상한제 시행전 주목받는 '막차' 단지는? <작성일> 2019년 8월 22일 <본문> 민간택지 분양가상한제 시행전 분양하는 이른바 '막차' 단지에 대한 수요자 관심이 집중되고 있다. 규제가 시행되면 신규 공급 일정이 불투명해지고, 최대 10년간 분양권 전매가 제한되는 등 내 집 마련에 제약이 많아지기 때문이다.국토교통부는 지난 12일 민간택지 분양가 상한제 추진 방안을 발표했다. 주택 가격이 급등하거나 급등할 우려가 있는 지역을 선별해 주거정책심의위원회 심의를 거쳐 적용 지역을 지정할 예정이다. 부동산 시장 과열 우려가 큰 서울 강남 등 일부 지역에만 적용될 것이라는 업계 예상과 달리 서울 전역과 경기 과천, 광명 등 투기과열지구 31곳이 사정권에 해당되는 셈이다. 이에따라 재건축 사업 위주의 신규 공급이 예정돼 있던 서울의 경우 사업성을 이유로 분양이 미뤄지거나 하반기에 예정된 물량의 공급 시기도 불투명해질 가능성이 높아졌다. 분양가상한제 시행 발표이후 신규 분양시장 열기가 뜨겁다. 이달 서울시 강서구에서 분양한 '등촌 두산위브' 경우 88가구(특별공급 제외) 모집에 3856건이 접수돼 1순위 평균 43.82대1의 경쟁률을 기록했다. 또 지난 7월 서울시 동대문구에서 분양한 '청량리역 롯데캐슬 SKY-L65'는 1순위 평균 16.53대1, 같은달 서울시 은평구에서 분양한 'e편한세상 백련산'은 1순위 평균 32.65대1의 경쟁률을 각각 기록했다.업계에서는 분양가상한제 시행으로 청약 경쟁이 치열해지면 당첨자의 청약가점이 평균 60점대로 높아질 것이라고 보고 있다. 일부 단지의 경우 기본 제공 항목\"}\n"
     ]
    },
    {
     "name": "stderr",
     "output_type": "stream",
     "text": [
      "228342it [00:05, 44490.56it/s]\n"
     ]
    },
    {
     "ename": "KeyboardInterrupt",
     "evalue": "",
     "output_type": "error",
     "traceback": [
      "\u001b[0;31m---------------------------------------------------------------------------\u001b[0m",
      "\u001b[0;31mKeyboardInterrupt\u001b[0m                         Traceback (most recent call last)",
      "\u001b[1;32m/home/ubuntu/projects/SHIP_search/expp2.ipynb Cell 1\u001b[0m line \u001b[0;36m4\n\u001b[1;32m      <a href='vscode-notebook-cell://ssh-remote%2B7b22686f73744e616d65223a2234332e3230312e3231352e3634222c2275736572223a22726f6f74227d/home/ubuntu/projects/SHIP_search/expp2.ipynb#W0sdnNjb2RlLXJlbW90ZQ%3D%3D?line=1'>2</a>\u001b[0m \u001b[39mfrom\u001b[39;00m \u001b[39mtqdm\u001b[39;00m \u001b[39mimport\u001b[39;00m tqdm\n\u001b[1;32m      <a href='vscode-notebook-cell://ssh-remote%2B7b22686f73744e616d65223a2234332e3230312e3231352e3634222c2275736572223a22726f6f74227d/home/ubuntu/projects/SHIP_search/expp2.ipynb#W0sdnNjb2RlLXJlbW90ZQ%3D%3D?line=2'>3</a>\u001b[0m \u001b[39mwith\u001b[39;00m jsonlines\u001b[39m.\u001b[39mopen(\u001b[39m\"\u001b[39m\u001b[39m/home/ubuntu/projects/SHIP_search/corpus_late.jsonl\u001b[39m\u001b[39m\"\u001b[39m, \u001b[39m'\u001b[39m\u001b[39mr\u001b[39m\u001b[39m'\u001b[39m) \u001b[39mas\u001b[39;00m reader:\n\u001b[0;32m----> <a href='vscode-notebook-cell://ssh-remote%2B7b22686f73744e616d65223a2234332e3230312e3231352e3634222c2275736572223a22726f6f74227d/home/ubuntu/projects/SHIP_search/expp2.ipynb#W0sdnNjb2RlLXJlbW90ZQ%3D%3D?line=3'>4</a>\u001b[0m     \u001b[39mfor\u001b[39;00m line \u001b[39min\u001b[39;00m tqdm(reader):\n\u001b[1;32m      <a href='vscode-notebook-cell://ssh-remote%2B7b22686f73744e616d65223a2234332e3230312e3231352e3634222c2275736572223a22726f6f74227d/home/ubuntu/projects/SHIP_search/expp2.ipynb#W0sdnNjb2RlLXJlbW90ZQ%3D%3D?line=4'>5</a>\u001b[0m         gid, item \u001b[39m=\u001b[39m \u001b[39mlist\u001b[39m(line\u001b[39m.\u001b[39mitems())[\u001b[39m0\u001b[39m]\n\u001b[1;32m      <a href='vscode-notebook-cell://ssh-remote%2B7b22686f73744e616d65223a2234332e3230312e3231352e3634222c2275736572223a22726f6f74227d/home/ubuntu/projects/SHIP_search/expp2.ipynb#W0sdnNjb2RlLXJlbW90ZQ%3D%3D?line=5'>6</a>\u001b[0m         \u001b[39mif\u001b[39;00m gid \u001b[39m==\u001b[39m\u001b[39m\"\u001b[39m\u001b[39m97063957_0\u001b[39m\u001b[39m\"\u001b[39m:\n",
      "File \u001b[0;32m~/miniconda3/envs/dpr/lib/python3.8/site-packages/tqdm/std.py:1182\u001b[0m, in \u001b[0;36mtqdm.__iter__\u001b[0;34m(self)\u001b[0m\n\u001b[1;32m   1179\u001b[0m time \u001b[39m=\u001b[39m \u001b[39mself\u001b[39m\u001b[39m.\u001b[39m_time\n\u001b[1;32m   1181\u001b[0m \u001b[39mtry\u001b[39;00m:\n\u001b[0;32m-> 1182\u001b[0m     \u001b[39mfor\u001b[39;00m obj \u001b[39min\u001b[39;00m iterable:\n\u001b[1;32m   1183\u001b[0m         \u001b[39myield\u001b[39;00m obj\n\u001b[1;32m   1184\u001b[0m         \u001b[39m# Update and possibly print the progressbar.\u001b[39;00m\n\u001b[1;32m   1185\u001b[0m         \u001b[39m# Note: does not call self.update(1) for speed optimisation.\u001b[39;00m\n",
      "File \u001b[0;32m~/miniconda3/envs/dpr/lib/python3.8/site-packages/jsonlines/jsonlines.py:434\u001b[0m, in \u001b[0;36mReader.iter\u001b[0;34m(self, type, allow_none, skip_empty, skip_invalid)\u001b[0m\n\u001b[1;32m    432\u001b[0m \u001b[39mwhile\u001b[39;00m \u001b[39mTrue\u001b[39;00m:\n\u001b[1;32m    433\u001b[0m     \u001b[39mtry\u001b[39;00m:\n\u001b[0;32m--> 434\u001b[0m         \u001b[39myield\u001b[39;00m \u001b[39mself\u001b[39;49m\u001b[39m.\u001b[39;49mread(\n\u001b[1;32m    435\u001b[0m             \u001b[39mtype\u001b[39;49m\u001b[39m=\u001b[39;49m\u001b[39mtype\u001b[39;49m, allow_none\u001b[39m=\u001b[39;49mallow_none, skip_empty\u001b[39m=\u001b[39;49mskip_empty\n\u001b[1;32m    436\u001b[0m         )\n\u001b[1;32m    437\u001b[0m     \u001b[39mexcept\u001b[39;00m InvalidLineError:\n\u001b[1;32m    438\u001b[0m         \u001b[39mif\u001b[39;00m \u001b[39mnot\u001b[39;00m skip_invalid:\n",
      "File \u001b[0;32m~/miniconda3/envs/dpr/lib/python3.8/site-packages/jsonlines/jsonlines.py:307\u001b[0m, in \u001b[0;36mReader.read\u001b[0;34m(self, type, allow_none, skip_empty)\u001b[0m\n\u001b[1;32m    304\u001b[0m     \u001b[39mraise\u001b[39;00m \u001b[39mValueError\u001b[39;00m(\u001b[39m\"\u001b[39m\u001b[39minvalid type specified\u001b[39m\u001b[39m\"\u001b[39m)\n\u001b[1;32m    306\u001b[0m \u001b[39mtry\u001b[39;00m:\n\u001b[0;32m--> 307\u001b[0m     lineno, line \u001b[39m=\u001b[39m \u001b[39mnext\u001b[39;49m(\u001b[39mself\u001b[39;49m\u001b[39m.\u001b[39;49m_line_iter)\n\u001b[1;32m    308\u001b[0m     \u001b[39mwhile\u001b[39;00m skip_empty \u001b[39mand\u001b[39;00m \u001b[39mnot\u001b[39;00m line\u001b[39m.\u001b[39mrstrip():\n\u001b[1;32m    309\u001b[0m         lineno, line \u001b[39m=\u001b[39m \u001b[39mnext\u001b[39m(\u001b[39mself\u001b[39m\u001b[39m.\u001b[39m_line_iter)\n",
      "File \u001b[0;32m~/miniconda3/envs/dpr/lib/python3.8/codecs.py:322\u001b[0m, in \u001b[0;36mBufferedIncrementalDecoder.decode\u001b[0;34m(self, input, final)\u001b[0m\n\u001b[1;32m    319\u001b[0m \u001b[39mdef\u001b[39;00m \u001b[39mdecode\u001b[39m(\u001b[39mself\u001b[39m, \u001b[39minput\u001b[39m, final\u001b[39m=\u001b[39m\u001b[39mFalse\u001b[39;00m):\n\u001b[1;32m    320\u001b[0m     \u001b[39m# decode input (taking the buffer into account)\u001b[39;00m\n\u001b[1;32m    321\u001b[0m     data \u001b[39m=\u001b[39m \u001b[39mself\u001b[39m\u001b[39m.\u001b[39mbuffer \u001b[39m+\u001b[39m \u001b[39minput\u001b[39m\n\u001b[0;32m--> 322\u001b[0m     (result, consumed) \u001b[39m=\u001b[39m \u001b[39mself\u001b[39;49m\u001b[39m.\u001b[39;49m_buffer_decode(data, \u001b[39mself\u001b[39;49m\u001b[39m.\u001b[39;49merrors, final)\n\u001b[1;32m    323\u001b[0m     \u001b[39m# keep undecoded input until the next call\u001b[39;00m\n\u001b[1;32m    324\u001b[0m     \u001b[39mself\u001b[39m\u001b[39m.\u001b[39mbuffer \u001b[39m=\u001b[39m data[consumed:]\n",
      "File \u001b[0;32m~/miniconda3/envs/dpr/lib/python3.8/encodings/utf_8_sig.py:69\u001b[0m, in \u001b[0;36mIncrementalDecoder._buffer_decode\u001b[0;34m(self, input, errors, final)\u001b[0m\n\u001b[1;32m     66\u001b[0m             (output, consumed) \u001b[39m=\u001b[39m \\\n\u001b[1;32m     67\u001b[0m                codecs\u001b[39m.\u001b[39mutf_8_decode(\u001b[39minput\u001b[39m[\u001b[39m3\u001b[39m:], errors, final)\n\u001b[1;32m     68\u001b[0m             \u001b[39mreturn\u001b[39;00m (output, consumed\u001b[39m+\u001b[39m\u001b[39m3\u001b[39m)\n\u001b[0;32m---> 69\u001b[0m \u001b[39mreturn\u001b[39;00m codecs\u001b[39m.\u001b[39;49mutf_8_decode(\u001b[39minput\u001b[39;49m, errors, final)\n",
      "\u001b[0;31mKeyboardInterrupt\u001b[0m: "
     ]
    }
   ],
   "source": [
    "import jsonlines\n",
    "from tqdm import tqdm\n",
    "with jsonlines.open(\"/home/ubuntu/projects/SHIP_search/corpus_late.jsonl\", 'r') as reader:\n",
    "    for line in tqdm(reader):\n",
    "        gid, item = list(line.items())[0]\n",
    "        if gid ==\"97063957_0\":\n",
    "            print(item)"
   ]
  },
  {
   "cell_type": "code",
   "execution_count": 9,
   "metadata": {},
   "outputs": [],
   "source": [
    "from database import config\n",
    "import mysql.connector\n",
    "import binascii\n",
    "db = mysql.connector.connect(**config)\n",
    "cursor = db.cursor()\n",
    "cursor.execute(\"\"\"select gid, ctx from news_gpt.news_recent where gid='97063957_0'\"\"\")"
   ]
  },
  {
   "cell_type": "code",
   "execution_count": 10,
   "metadata": {},
   "outputs": [
    {
     "name": "stdout",
     "output_type": "stream",
     "text": [
      "[('97063957_0', b\"<\\xec\\xa0\\x9c\\xeb\\xaa\\xa9> \\xeb\\xb6\\x84\\xec\\x96\\x91\\xea\\xb0\\x80\\xec\\x83\\x81\\xed\\x95\\x9c\\xec\\xa0\\x9c \\xec\\x8b\\x9c\\xed\\x96\\x89\\xec\\xa0\\x84 \\xec\\xa3\\xbc\\xeb\\xaa\\xa9\\xeb\\xb0\\x9b\\xeb\\x8a\\x94 '\\xeb\\xa7\\x89\\xec\\xb0\\xa8' \\xeb\\x8b\\xa8\\xec\\xa7\\x80\\xeb\\x8a\\x94? <\\xec\\x9e\\x91\\xec\\x84\\xb1\\xec\\x9d\\xbc> 2019\\xeb\\x85\\x84 8\\xec\\x9b\\x94 22\\xec\\x9d\\xbc <\\xeb\\xb3\\xb8\\xeb\\xac\\xb8> \\xeb\\xaf\\xbc\\xea\\xb0\\x84\\xed\\x83\\x9d\\xec\\xa7\\x80 \\xeb\\xb6\\x84\\xec\\x96\\x91\\xea\\xb0\\x80\\xec\\x83\\x81\\xed\\x95\\x9c\\xec\\xa0\\x9c \\xec\\x8b\\x9c\\xed\\x96\\x89\\xec\\xa0\\x84 \\xeb\\xb6\\x84\\xec\\x96\\x91\\xed\\x95\\x98\\xeb\\x8a\\x94 \\xec\\x9d\\xb4\\xeb\\xa5\\xb8\\xeb\\xb0\\x94 '\\xeb\\xa7\\x89\\xec\\xb0\\xa8' \\xeb\\x8b\\xa8\\xec\\xa7\\x80\\xec\\x97\\x90 \\xeb\\x8c\\x80\\xed\\x95\\x9c \\xec\\x88\\x98\\xec\\x9a\\x94\\xec\\x9e\\x90 \\xea\\xb4\\x80\\xec\\x8b\\xac\\xec\\x9d\\xb4 \\xec\\xa7\\x91\\xec\\xa4\\x91\\xeb\\x90\\x98\\xea\\xb3\\xa0 \\xec\\x9e\\x88\\xeb\\x8b\\xa4. \\xea\\xb7\\x9c\\xec\\xa0\\x9c\\xea\\xb0\\x80 \\xec\\x8b\\x9c\\xed\\x96\\x89\\xeb\\x90\\x98\\xeb\\xa9\\xb4 \\xec\\x8b\\xa0\\xea\\xb7\\x9c \\xea\\xb3\\xb5\\xea\\xb8\\x89 \\xec\\x9d\\xbc\\xec\\xa0\\x95\\xec\\x9d\\xb4 \\xeb\\xb6\\x88\\xed\\x88\\xac\\xeb\\xaa\\x85\\xed\\x95\\xb4\\xec\\xa7\\x80\\xea\\xb3\\xa0, \\xec\\xb5\\x9c\\xeb\\x8c\\x80 10\\xeb\\x85\\x84\\xea\\xb0\\x84 \\xeb\\xb6\\x84\\xec\\x96\\x91\\xea\\xb6\\x8c \\xec\\xa0\\x84\\xeb\\xa7\\xa4\\xea\\xb0\\x80 \\xec\\xa0\\x9c\\xed\\x95\\x9c\\xeb\\x90\\x98\\xeb\\x8a\\x94 \\xeb\\x93\\xb1 \\xeb\\x82\\xb4 \\xec\\xa7\\x91 \\xeb\\xa7\\x88\\xeb\\xa0\\xa8\\xec\\x97\\x90 \\xec\\xa0\\x9c\\xec\\x95\\xbd\\xec\\x9d\\xb4 \\xeb\\xa7\\x8e\\xec\\x95\\x84\\xec\\xa7\\x80\\xea\\xb8\\xb0 \\xeb\\x95\\x8c\\xeb\\xac\\xb8\\xec\\x9d\\xb4\\xeb\\x8b\\xa4.\\xea\\xb5\\xad\\xed\\x86\\xa0\\xea\\xb5\\x90\\xed\\x86\\xb5\\xeb\\xb6\\x80\\xeb\\x8a\\x94 \\xec\\xa7\\x80\\xeb\\x82\\x9c 12\\xec\\x9d\\xbc \\xeb\\xaf\\xbc\\xea\\xb0\\x84\\xed\\x83\\x9d\\xec\\xa7\\x80 \\xeb\\xb6\\x84\\xec\\x96\\x91\\xea\\xb0\\x80 \\xec\\x83\\x81\\xed\\x95\\x9c\\xec\\xa0\\x9c \\xec\\xb6\\x94\\xec\\xa7\\x84 \\xeb\\xb0\\xa9\\xec\\x95\\x88\\xec\\x9d\\x84 \\xeb\\xb0\\x9c\\xed\\x91\\x9c\\xed\\x96\\x88\\xeb\\x8b\\xa4. \\xec\\xa3\\xbc\\xed\\x83\\x9d \\xea\\xb0\\x80\\xea\\xb2\\xa9\\xec\\x9d\\xb4 \\xea\\xb8\\x89\\xeb\\x93\\xb1\\xed\\x95\\x98\\xea\\xb1\\xb0\\xeb\\x82\\x98 \\xea\\xb8\\x89\\xeb\\x93\\xb1\\xed\\x95\\xa0 \\xec\\x9a\\xb0\\xeb\\xa0\\xa4\\xea\\xb0\\x80 \\xec\\x9e\\x88\\xeb\\x8a\\x94 \\xec\\xa7\\x80\\xec\\x97\\xad\\xec\\x9d\\x84 \\xec\\x84\\xa0\\xeb\\xb3\\x84\\xed\\x95\\xb4 \\xec\\xa3\\xbc\\xea\\xb1\\xb0\\xec\\xa0\\x95\\xec\\xb1\\x85\\xec\\x8b\\xac\\xec\\x9d\\x98\\xec\\x9c\\x84\\xec\\x9b\\x90\\xed\\x9a\\x8c \\xec\\x8b\\xac\\xec\\x9d\\x98\\xeb\\xa5\\xbc \\xea\\xb1\\xb0\\xec\\xb3\\x90 \\xec\\xa0\\x81\\xec\\x9a\\xa9 \\xec\\xa7\\x80\\xec\\x97\\xad\\xec\\x9d\\x84 \\xec\\xa7\\x80\\xec\\xa0\\x95\\xed\\x95\\xa0 \\xec\\x98\\x88\\xec\\xa0\\x95\\xec\\x9d\\xb4\\xeb\\x8b\\xa4. \\xeb\\xb6\\x80\\xeb\\x8f\\x99\\xec\\x82\\xb0 \\xec\\x8b\\x9c\\xec\\x9e\\xa5 \\xea\\xb3\\xbc\\xec\\x97\\xb4 \\xec\\x9a\\xb0\\xeb\\xa0\\xa4\\xea\\xb0\\x80 \\xed\\x81\\xb0 \\xec\\x84\\x9c\\xec\\x9a\\xb8 \\xea\\xb0\\x95\\xeb\\x82\\xa8 \\xeb\\x93\\xb1 \\xec\\x9d\\xbc\\xeb\\xb6\\x80 \\xec\\xa7\\x80\\xec\\x97\\xad\\xec\\x97\\x90\\xeb\\xa7\\x8c \\xec\\xa0\\x81\\xec\\x9a\\xa9\\xeb\\x90\\xa0 \\xea\\xb2\\x83\\xec\\x9d\\xb4\\xeb\\x9d\\xbc\\xeb\\x8a\\x94 \\xec\\x97\\x85\\xea\\xb3\\x84 \\xec\\x98\\x88\\xec\\x83\\x81\\xea\\xb3\\xbc \\xeb\\x8b\\xac\\xeb\\xa6\\xac \\xec\\x84\\x9c\\xec\\x9a\\xb8 \\xec\\xa0\\x84\\xec\\x97\\xad\\xea\\xb3\\xbc \\xea\\xb2\\xbd\\xea\\xb8\\xb0 \\xea\\xb3\\xbc\\xec\\xb2\\x9c, \\xea\\xb4\\x91\\xeb\\xaa\\x85 \\xeb\\x93\\xb1 \\xed\\x88\\xac\\xea\\xb8\\xb0\\xea\\xb3\\xbc\\xec\\x97\\xb4\\xec\\xa7\\x80\\xea\\xb5\\xac 31\\xea\\xb3\\xb3\\xec\\x9d\\xb4 \\xec\\x82\\xac\\xec\\xa0\\x95\\xea\\xb6\\x8c\\xec\\x97\\x90 \\xed\\x95\\xb4\\xeb\\x8b\\xb9\\xeb\\x90\\x98\\xeb\\x8a\\x94 \\xec\\x85\\x88\\xec\\x9d\\xb4\\xeb\\x8b\\xa4. \\xec\\x9d\\xb4\\xec\\x97\\x90\\xeb\\x94\\xb0\\xeb\\x9d\\xbc \\xec\\x9e\\xac\\xea\\xb1\\xb4\\xec\\xb6\\x95 \\xec\\x82\\xac\\xec\\x97\\x85 \\xec\\x9c\\x84\\xec\\xa3\\xbc\\xec\\x9d\\x98 \\xec\\x8b\\xa0\\xea\\xb7\\x9c \\xea\\xb3\\xb5\\xea\\xb8\\x89\\xec\\x9d\\xb4 \\xec\\x98\\x88\\xec\\xa0\\x95\\xeb\\x8f\\xbc \\xec\\x9e\\x88\\xeb\\x8d\\x98 \\xec\\x84\\x9c\\xec\\x9a\\xb8\\xec\\x9d\\x98 \\xea\\xb2\\xbd\\xec\\x9a\\xb0 \\xec\\x82\\xac\\xec\\x97\\x85\\xec\\x84\\xb1\\xec\\x9d\\x84 \\xec\\x9d\\xb4\\xec\\x9c\\xa0\\xeb\\xa1\\x9c \\xeb\\xb6\\x84\\xec\\x96\\x91\\xec\\x9d\\xb4 \\xeb\\xaf\\xb8\\xeb\\xa4\\x84\\xec\\xa7\\x80\\xea\\xb1\\xb0\\xeb\\x82\\x98 \\xed\\x95\\x98\\xeb\\xb0\\x98\\xea\\xb8\\xb0\\xec\\x97\\x90 \\xec\\x98\\x88\\xec\\xa0\\x95\\xeb\\x90\\x9c \\xeb\\xac\\xbc\\xeb\\x9f\\x89\\xec\\x9d\\x98 \\xea\\xb3\\xb5\\xea\\xb8\\x89 \\xec\\x8b\\x9c\\xea\\xb8\\xb0\\xeb\\x8f\\x84 \\xeb\\xb6\\x88\\xed\\x88\\xac\\xeb\\xaa\\x85\\xed\\x95\\xb4\\xec\\xa7\\x88 \\xea\\xb0\\x80\\xeb\\x8a\\xa5\\xec\\x84\\xb1\\xec\\x9d\\xb4 \\xeb\\x86\\x92\\xec\\x95\\x84\\xec\\xa1\\x8c\\xeb\\x8b\\xa4. \\xeb\\xb6\\x84\\xec\\x96\\x91\\xea\\xb0\\x80\\xec\\x83\\x81\\xed\\x95\\x9c\\xec\\xa0\\x9c \\xec\\x8b\\x9c\\xed\\x96\\x89 \\xeb\\xb0\\x9c\\xed\\x91\\x9c\\xec\\x9d\\xb4\\xed\\x9b\\x84 \\xec\\x8b\\xa0\\xea\\xb7\\x9c \\xeb\\xb6\\x84\\xec\\x96\\x91\\xec\\x8b\\x9c\\xec\\x9e\\xa5 \\xec\\x97\\xb4\\xea\\xb8\\xb0\\xea\\xb0\\x80 \\xeb\\x9c\\xa8\\xea\\xb2\\x81\\xeb\\x8b\\xa4. \\xec\\x9d\\xb4\\xeb\\x8b\\xac \\xec\\x84\\x9c\\xec\\x9a\\xb8\\xec\\x8b\\x9c \\xea\\xb0\\x95\\xec\\x84\\x9c\\xea\\xb5\\xac\\xec\\x97\\x90\\xec\\x84\\x9c \\xeb\\xb6\\x84\\xec\\x96\\x91\\xed\\x95\\x9c '\\xeb\\x93\\xb1\\xec\\xb4\\x8c \\xeb\\x91\\x90\\xec\\x82\\xb0\\xec\\x9c\\x84\\xeb\\xb8\\x8c' \\xea\\xb2\\xbd\\xec\\x9a\\xb0 88\\xea\\xb0\\x80\\xea\\xb5\\xac(\\xed\\x8a\\xb9\\xeb\\xb3\\x84\\xea\\xb3\\xb5\\xea\\xb8\\x89 \\xec\\xa0\\x9c\\xec\\x99\\xb8) \\xeb\\xaa\\xa8\\xec\\xa7\\x91\\xec\\x97\\x90 3856\\xea\\xb1\\xb4\\xec\\x9d\\xb4 \\xec\\xa0\\x91\\xec\\x88\\x98\\xeb\\x8f\\xbc 1\\xec\\x88\\x9c\\xec\\x9c\\x84 \\xed\\x8f\\x89\\xea\\xb7\\xa0 43.82\\xeb\\x8c\\x801\\xec\\x9d\\x98 \\xea\\xb2\\xbd\\xec\\x9f\\x81\\xeb\\xa5\\xa0\\xec\\x9d\\x84 \\xea\\xb8\\xb0\\xeb\\xa1\\x9d\\xed\\x96\\x88\\xeb\\x8b\\xa4. \\xeb\\x98\\x90 \\xec\\xa7\\x80\\xeb\\x82\\x9c 7\\xec\\x9b\\x94 \\xec\\x84\\x9c\\xec\\x9a\\xb8\\xec\\x8b\\x9c \\xeb\\x8f\\x99\\xeb\\x8c\\x80\\xeb\\xac\\xb8\\xea\\xb5\\xac\\xec\\x97\\x90\\xec\\x84\\x9c \\xeb\\xb6\\x84\\xec\\x96\\x91\\xed\\x95\\x9c '\\xec\\xb2\\xad\\xeb\\x9f\\x89\\xeb\\xa6\\xac\\xec\\x97\\xad \\xeb\\xa1\\xaf\\xeb\\x8d\\xb0\\xec\\xba\\x90\\xec\\x8a\\xac SKY-L65'\\xeb\\x8a\\x94 1\\xec\\x88\\x9c\\xec\\x9c\\x84 \\xed\\x8f\\x89\\xea\\xb7\\xa0 16.53\\xeb\\x8c\\x801, \\xea\\xb0\\x99\\xec\\x9d\\x80\\xeb\\x8b\\xac \\xec\\x84\\x9c\\xec\\x9a\\xb8\\xec\\x8b\\x9c \\xec\\x9d\\x80\\xed\\x8f\\x89\\xea\\xb5\\xac\\xec\\x97\\x90\\xec\\x84\\x9c \\xeb\\xb6\\x84\\xec\\x96\\x91\\xed\\x95\\x9c 'e\\xed\\x8e\\xb8\\xed\\x95\\x9c\\xec\\x84\\xb8\\xec\\x83\\x81 \\xeb\\xb0\\xb1\\xeb\\xa0\\xa8\\xec\\x82\\xb0'\\xec\\x9d\\x80 1\\xec\\x88\\x9c\\xec\\x9c\\x84 \\xed\\x8f\\x89\\xea\\xb7\\xa0 32.65\\xeb\\x8c\\x801\\xec\\x9d\\x98 \\xea\\xb2\\xbd\\xec\\x9f\\x81\\xeb\\xa5\\xa0\\xec\\x9d\\x84 \\xea\\xb0\\x81\\xea\\xb0\\x81 \\xea\\xb8\\xb0\\xeb\\xa1\\x9d\\xed\\x96\\x88\\xeb\\x8b\\xa4.\\xec\\x97\\x85\\xea\\xb3\\x84\\xec\\x97\\x90\\xec\\x84\\x9c\\xeb\\x8a\\x94 \\xeb\\xb6\\x84\\xec\\x96\\x91\\xea\\xb0\\x80\\xec\\x83\\x81\\xed\\x95\\x9c\\xec\\xa0\\x9c \\xec\\x8b\\x9c\\xed\\x96\\x89\\xec\\x9c\\xbc\\xeb\\xa1\\x9c \\xec\\xb2\\xad\\xec\\x95\\xbd \\xea\\xb2\\xbd\\xec\\x9f\\x81\\xec\\x9d\\xb4 \\xec\\xb9\\x98\\xec\\x97\\xb4\\xed\\x95\\xb4\\xec\\xa7\\x80\\xeb\\xa9\\xb4 \\xeb\\x8b\\xb9\\xec\\xb2\\xa8\\xec\\x9e\\x90\\xec\\x9d\\x98 \\xec\\xb2\\xad\\xec\\x95\\xbd\\xea\\xb0\\x80\\xec\\xa0\\x90\\xec\\x9d\\xb4 \\xed\\x8f\\x89\\xea\\xb7\\xa0 60\\xec\\xa0\\x90\\xeb\\x8c\\x80\\xeb\\xa1\\x9c \\xeb\\x86\\x92\\xec\\x95\\x84\\xec\\xa7\\x88 \\xea\\xb2\\x83\\xec\\x9d\\xb4\\xeb\\x9d\\xbc\\xea\\xb3\\xa0 \\xeb\\xb3\\xb4\\xea\\xb3\\xa0 \\xec\\x9e\\x88\\xeb\\x8b\\xa4. \\xec\\x9d\\xbc\\xeb\\xb6\\x80 \\xeb\\x8b\\xa8\\xec\\xa7\\x80\\xec\\x9d\\x98 \\xea\\xb2\\xbd\\xec\\x9a\\xb0 \\xea\\xb8\\xb0\\xeb\\xb3\\xb8 \\xec\\xa0\\x9c\\xea\\xb3\\xb5 \\xed\\x95\\xad\\xeb\\xaa\\xa9\")]\n"
     ]
    }
   ],
   "source": [
    "print(cursor.fetchall())"
   ]
  },
  {
   "cell_type": "code",
   "execution_count": null,
   "metadata": {},
   "outputs": [],
   "source": []
  },
  {
   "cell_type": "code",
   "execution_count": 6,
   "metadata": {},
   "outputs": [
    {
     "name": "stdout",
     "output_type": "stream",
     "text": [
      "[10, 9, 8, 7, 6, 5, 4, 3, 2, 1]\n"
     ]
    }
   ],
   "source": [
    "print(list(range(10,0,-1)))"
   ]
  }
 ],
 "metadata": {
  "kernelspec": {
   "display_name": "dpr",
   "language": "python",
   "name": "python3"
  },
  "language_info": {
   "codemirror_mode": {
    "name": "ipython",
    "version": 3
   },
   "file_extension": ".py",
   "mimetype": "text/x-python",
   "name": "python",
   "nbconvert_exporter": "python",
   "pygments_lexer": "ipython3",
   "version": "3.8.18"
  },
  "orig_nbformat": 4
 },
 "nbformat": 4,
 "nbformat_minor": 2
}
