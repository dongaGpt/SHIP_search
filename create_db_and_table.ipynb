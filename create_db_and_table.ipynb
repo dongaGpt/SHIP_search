{
 "cells": [
  {
   "cell_type": "code",
   "execution_count": 1,
   "metadata": {},
   "outputs": [],
   "source": [
    "## db 와 테이블 만들기\n",
    "\n",
    "from database import config\n",
    "import mysql.connector\n",
    "\n",
    "\n",
    "db = mysql.connector.connect(**config)\n",
    "cursor = db.cursor()"
   ]
  },
  {
   "cell_type": "code",
   "execution_count": 2,
   "metadata": {},
   "outputs": [],
   "source": [
    "cursor.execute(\n",
    "    \"\"\"\n",
    "    create database if not exists news_gpt default character set 'utf8';\n",
    "    \"\"\"\n",
    ")\n"
   ]
  },
  {
   "cell_type": "code",
   "execution_count": 10,
   "metadata": {},
   "outputs": [],
   "source": [
    "cursor.execute(\"\"\"\n",
    "drop table news_gpt.news_old\n",
    "\"\"\")"
   ]
  },
  {
   "cell_type": "code",
   "execution_count": 2,
   "metadata": {},
   "outputs": [],
   "source": [
    "cursor.execute(\n",
    "    \"\"\"\n",
    "    create table if not exists news_gpt.news_recent(\n",
    "    gid varchar(12),\n",
    "    createtime timestamp,\n",
    "    unique_tit varchar(100),\n",
    "    title varchar(100),\n",
    "    ctx mediumblob,\n",
    "    url varchar(100),\n",
    "    thumburl varchar(100),\n",
    "    source varchar(10),\n",
    "    cate_code varchar(3),\n",
    "    vec mediumblob,\n",
    "    primary key (gid, unique_tit)\n",
    "    );\n",
    "    \"\"\"\n",
    ")"
   ]
  },
  {
   "cell_type": "code",
   "execution_count": 8,
   "metadata": {},
   "outputs": [],
   "source": [
    "# cursor.execute(\n",
    "#     \"\"\"\n",
    "#     create table if not exists news_gpt.news_recent(\n",
    "#     gid varchar(12),\n",
    "#     createtime timestamp,\n",
    "#     unique_tit varchar(100),\n",
    "#     title varchar(100),\n",
    "#     ctx mediumblob,\n",
    "#     url varchar(100),\n",
    "#     thumburl varchar(100),\n",
    "#     source varchar(10),\n",
    "#     cate_code varchar(3),\n",
    "#     vec mediumblob,\n",
    "#     all0 mediumblob,\n",
    "#     primary key (gid, unique_tit)\n",
    "#     );\n",
    "#     \"\"\"\n",
    "# )abort"
   ]
  },
  {
   "cell_type": "code",
   "execution_count": 19,
   "metadata": {},
   "outputs": [],
   "source": [
    "# cursor.execute(\n",
    "#     \"\"\"\n",
    "#     create table if not exists news_gpt.news_recent(\n",
    "#     gid varchar(12),\n",
    "#     createtime timestamp,\n",
    "#     unique_tit varchar(100),\n",
    "#     title varchar(100),\n",
    "#     ctx mediumblob,\n",
    "#     url varchar(100),\n",
    "#     thumburl varchar(100),\n",
    "#     source varchar(10),\n",
    "#     cate_code varchar(3),\n",
    "#     vec mediumblob,\n",
    "#     all0 json,\n",
    "#     primary key (gid, unique_tit)\n",
    "#     );\n",
    "#     \"\"\"\n",
    "# )   abort"
   ]
  },
  {
   "cell_type": "code",
   "execution_count": null,
   "metadata": {},
   "outputs": [],
   "source": []
  },
  {
   "cell_type": "code",
   "execution_count": null,
   "metadata": {},
   "outputs": [],
   "source": [
    "cursor.execute(\n",
    "    \"\"\"\n",
    "    create table if not exists news_gpt.news_old(\n",
    "    gid varchar(12),\n",
    "    createtime timestamp,\n",
    "    unique_tit varchar(100),\n",
    "    title varchar(100),\n",
    "    ctx mediumblob,\n",
    "    url varchar(100),\n",
    "    thumburl varchar(100),\n",
    "    source varchar(10),\n",
    "    cate_code varchar(3),\n",
    "    vec mediumblob,\n",
    "    primary key (gid, unique_tit)\n",
    "    );\n",
    "    \"\"\"\n",
    ")"
   ]
  }
 ],
 "metadata": {
  "kernelspec": {
   "display_name": "dpr",
   "language": "python",
   "name": "python3"
  },
  "language_info": {
   "codemirror_mode": {
    "name": "ipython",
    "version": 3
   },
   "file_extension": ".py",
   "mimetype": "text/x-python",
   "name": "python",
   "nbconvert_exporter": "python",
   "pygments_lexer": "ipython3",
   "version": "3.8.18"
  },
  "orig_nbformat": 4
 },
 "nbformat": 4,
 "nbformat_minor": 2
}
